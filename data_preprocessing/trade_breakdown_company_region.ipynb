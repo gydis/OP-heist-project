{
 "cells": [
  {
   "cell_type": "markdown",
   "metadata": {},
   "source": [
    "## Add the region of company from postal code from company_register"
   ]
  },
  {
   "cell_type": "code",
   "execution_count": null,
   "metadata": {},
   "outputs": [],
   "source": [
    "import pandas as pd"
   ]
  },
  {
   "cell_type": "code",
   "execution_count": null,
   "metadata": {},
   "outputs": [],
   "source": [
    "# dtype of all columns are string\n",
    "df = pd.read_csv('./data/company_register/full_prh_data.csv', sep=';', dtype={'business_line_code': str, 'postal_post_code': str})\n",
    "df = df[['company_name', 'business_line_code', 'postal_post_code']]\n",
    "\n",
    "post_code_region_mapping = pd.read_csv('./data/region_city_data/post_code_to_region.csv', dtype={'post_code': str})\n",
    "post_code_region_mapping = post_code_region_mapping.set_index('post_code').to_dict()['region']\n",
    "\n",
    "df['postal_region'] = df['postal_post_code'].map(post_code_region_mapping)"
   ]
  },
  {
   "cell_type": "code",
   "execution_count": null,
   "metadata": {},
   "outputs": [
    {
     "data": {
      "text/plain": [
       "3214"
      ]
     },
     "metadata": {},
     "output_type": "display_data"
    }
   ],
   "source": [
    "df['postal_post_code'].isna().sum()"
   ]
  },
  {
   "cell_type": "code",
   "execution_count": null,
   "metadata": {},
   "outputs": [
    {
     "data": {
      "text/plain": [
       "23190"
      ]
     },
     "metadata": {},
     "output_type": "display_data"
    }
   ],
   "source": [
    "df['postal_region'].isna().sum()"
   ]
  },
  {
   "cell_type": "code",
   "execution_count": null,
   "metadata": {},
   "outputs": [],
   "source": [
    "df.dropna(inplace=True)"
   ]
  },
  {
   "cell_type": "code",
   "execution_count": null,
   "metadata": {},
   "outputs": [
    {
     "data": {
      "text/html": [
       "<div>\n",
       "<style scoped>\n",
       "    .dataframe tbody tr th:only-of-type {\n",
       "        vertical-align: middle;\n",
       "    }\n",
       "\n",
       "    .dataframe tbody tr th {\n",
       "        vertical-align: top;\n",
       "    }\n",
       "\n",
       "    .dataframe thead th {\n",
       "        text-align: right;\n",
       "    }\n",
       "</style>\n",
       "<table border=\"1\" class=\"dataframe\">\n",
       "  <thead>\n",
       "    <tr style=\"text-align: right;\">\n",
       "      <th></th>\n",
       "      <th>company_name</th>\n",
       "      <th>business_line_code</th>\n",
       "      <th>postal_post_code</th>\n",
       "      <th>postal_region</th>\n",
       "    </tr>\n",
       "  </thead>\n",
       "  <tbody>\n",
       "    <tr>\n",
       "      <th>0</th>\n",
       "      <td>Profiteam Oy</td>\n",
       "      <td>79900</td>\n",
       "      <td>00500</td>\n",
       "      <td>Uusimaa</td>\n",
       "    </tr>\n",
       "    <tr>\n",
       "      <th>1</th>\n",
       "      <td>Ruskalinna Oy</td>\n",
       "      <td>79900</td>\n",
       "      <td>95700</td>\n",
       "      <td>Lappi</td>\n",
       "    </tr>\n",
       "    <tr>\n",
       "      <th>2</th>\n",
       "      <td>Saaga Safarit Oy Ukkohalla</td>\n",
       "      <td>79900</td>\n",
       "      <td>90100</td>\n",
       "      <td>Pohjois-Pohjanmaa</td>\n",
       "    </tr>\n",
       "    <tr>\n",
       "      <th>3</th>\n",
       "      <td>Oy SaariTours Ab</td>\n",
       "      <td>79120</td>\n",
       "      <td>10940</td>\n",
       "      <td>Uusimaa</td>\n",
       "    </tr>\n",
       "    <tr>\n",
       "      <th>4</th>\n",
       "      <td>Nordic JD Oy</td>\n",
       "      <td>79120</td>\n",
       "      <td>02620</td>\n",
       "      <td>Uusimaa</td>\n",
       "    </tr>\n",
       "    <tr>\n",
       "      <th>...</th>\n",
       "      <td>...</td>\n",
       "      <td>...</td>\n",
       "      <td>...</td>\n",
       "      <td>...</td>\n",
       "    </tr>\n",
       "    <tr>\n",
       "      <th>330352</th>\n",
       "      <td>Keijo Siikaluoma Oy</td>\n",
       "      <td>88109</td>\n",
       "      <td>90130</td>\n",
       "      <td>Pohjois-Pohjanmaa</td>\n",
       "    </tr>\n",
       "    <tr>\n",
       "      <th>330353</th>\n",
       "      <td>Stella Kotipalvelut Oy</td>\n",
       "      <td>88991</td>\n",
       "      <td>00380</td>\n",
       "      <td>Uusimaa</td>\n",
       "    </tr>\n",
       "    <tr>\n",
       "      <th>330354</th>\n",
       "      <td>Norlandia Päiväkodit Oy</td>\n",
       "      <td>88911</td>\n",
       "      <td>02600</td>\n",
       "      <td>Uusimaa</td>\n",
       "    </tr>\n",
       "    <tr>\n",
       "      <th>330355</th>\n",
       "      <td>Palvelukoti Länsituuli Oy</td>\n",
       "      <td>88101</td>\n",
       "      <td>00300</td>\n",
       "      <td>Uusimaa</td>\n",
       "    </tr>\n",
       "    <tr>\n",
       "      <th>330357</th>\n",
       "      <td>Etelä-Suomen Sosiaali-Info Oy</td>\n",
       "      <td>88999</td>\n",
       "      <td>04130</td>\n",
       "      <td>Uusimaa</td>\n",
       "    </tr>\n",
       "  </tbody>\n",
       "</table>\n",
       "<p>307168 rows × 4 columns</p>\n",
       "</div>"
      ],
      "text/plain": [
       "                         company_name business_line_code postal_post_code  \\\n",
       "0                        Profiteam Oy              79900            00500   \n",
       "1                       Ruskalinna Oy              79900            95700   \n",
       "2          Saaga Safarit Oy Ukkohalla              79900            90100   \n",
       "3                    Oy SaariTours Ab              79120            10940   \n",
       "4                        Nordic JD Oy              79120            02620   \n",
       "...                               ...                ...              ...   \n",
       "330352            Keijo Siikaluoma Oy              88109            90130   \n",
       "330353         Stella Kotipalvelut Oy              88991            00380   \n",
       "330354        Norlandia Päiväkodit Oy              88911            02600   \n",
       "330355      Palvelukoti Länsituuli Oy              88101            00300   \n",
       "330357  Etelä-Suomen Sosiaali-Info Oy              88999            04130   \n",
       "\n",
       "            postal_region  \n",
       "0                 Uusimaa  \n",
       "1                   Lappi  \n",
       "2       Pohjois-Pohjanmaa  \n",
       "3                 Uusimaa  \n",
       "4                 Uusimaa  \n",
       "...                   ...  \n",
       "330352  Pohjois-Pohjanmaa  \n",
       "330353            Uusimaa  \n",
       "330354            Uusimaa  \n",
       "330355            Uusimaa  \n",
       "330357            Uusimaa  \n",
       "\n",
       "[307168 rows x 4 columns]"
      ]
     },
     "metadata": {},
     "output_type": "display_data"
    }
   ],
   "source": [
    "df"
   ]
  },
  {
   "cell_type": "code",
   "execution_count": null,
   "metadata": {},
   "outputs": [],
   "source": [
    "df.to_csv('./data/company_register/full_prh_data_with_region.csv', index=False)"
   ]
  },
  {
   "cell_type": "markdown",
   "metadata": {},
   "source": [
    "## Process data mapping from municipality -> region"
   ]
  },
  {
   "cell_type": "code",
   "execution_count": null,
   "metadata": {},
   "outputs": [],
   "source": [
    "import pandas as pd"
   ]
  },
  {
   "cell_type": "code",
   "execution_count": null,
   "metadata": {},
   "outputs": [],
   "source": [
    "df = pd.read_csv('./data/region_city_data/mapper_updated.csv', sep=';')\n",
    "\n",
    "# strip the whitespace from the all columns that is string\n",
    "df = df.apply(lambda x: x.str.strip() if x.dtype == \"object\" else x)\n",
    "# df.columns = ['Name of Municipality in Finnish', 'Number of municipality','Code of region', 'Name of region in Finnish']\n",
    "\n",
    "# remove last column\n",
    "df = df.iloc[:, :-1]"
   ]
  },
  {
   "cell_type": "code",
   "execution_count": null,
   "metadata": {},
   "outputs": [],
   "source": [
    "df.to_csv('./data/region_city_data/municipality_region_map.csv', index=False)"
   ]
  },
  {
   "cell_type": "markdown",
   "metadata": {},
   "source": [
    "## Handy code to convert NACE Code"
   ]
  },
  {
   "cell_type": "code",
   "execution_count": null,
   "metadata": {},
   "outputs": [],
   "source": [
    "# create a mapping from nace code to nace class. Eg: 79 -> N\n",
    "nace_class = pd.read_excel(\"./data/nace_codes/nace_classification.xlsx\")\n",
    "nace_class.columns = nace_class.iloc[0]\n",
    "nace_class = nace_class.iloc[1:]\n",
    "nace_class = nace_class[nace_class['Level'] == '2'] \n",
    "nace_class = nace_class[['NACE Rev. 2', 'Section']]\n",
    "nace_class.columns = ['NACE_Code', 'Section']\n",
    "nace_class.reset_index(drop=True, inplace=True)\n",
    "\n",
    "# # convert nace_class to dictionary\n",
    "# nace_class_dict = nace_class.set_index('NACE Rev. 2').to_dict()['Section']"
   ]
  }
 ],
 "metadata": {
  "language_info": {
   "name": "python"
  }
 },
 "nbformat": 4,
 "nbformat_minor": 2
}
