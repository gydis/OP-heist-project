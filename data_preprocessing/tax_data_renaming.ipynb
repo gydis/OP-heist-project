{
 "cells": [
  {
   "cell_type": "code",
   "execution_count": 17,
   "metadata": {},
   "outputs": [],
   "source": [
    "import pandas as pd"
   ]
  },
  {
   "cell_type": "code",
   "execution_count": 18,
   "metadata": {},
   "outputs": [
    {
     "data": {
      "text/plain": [
       "['Year',\n",
       " 'Business_ID',\n",
       " 'Name',\n",
       " 'Tax_Region',\n",
       " 'Tax_Revenue',\n",
       " 'Total_Amount_Paid',\n",
       " 'Tax_Advance',\n",
       " 'Tax_Return',\n",
       " 'Residual_Tax']"
      ]
     },
     "execution_count": 18,
     "metadata": {},
     "output_type": "execute_result"
    }
   ],
   "source": [
    "df_2015 = pd.read_csv('tax_2015.csv')\n",
    "column_names = df_2015.columns.tolist()\n",
    "column_names"
   ]
  },
  {
   "cell_type": "code",
   "execution_count": 31,
   "metadata": {},
   "outputs": [],
   "source": [
    "def rename_cols(filename, column_names):\n",
    "    df = pd.read_csv(filename, delimiter=';', encoding='latin-1')\n",
    "    df.columns = column_names\n",
    "\n",
    "    # extract year from filename\n",
    "    year = filename[-8:-4]\n",
    "\n",
    "    # new file path\n",
    "    path = f'./eng_data/tax_{year}.csv'\n",
    "    df.to_csv(path, index=False)\n",
    "    return df "
   ]
  },
  {
   "cell_type": "code",
   "execution_count": 32,
   "metadata": {},
   "outputs": [],
   "source": [
    "import os\n",
    "\n",
    "filenames = os.listdir('./raw_finnish_data/')\n",
    "\n",
    "for filename in filenames:\n",
    "    rename_cols(f'./raw_finnish_data/{filename}', column_names)"
   ]
  },
  {
   "cell_type": "code",
   "execution_count": null,
   "metadata": {},
   "outputs": [],
   "source": []
  }
 ],
 "metadata": {
  "kernelspec": {
   "display_name": "base",
   "language": "python",
   "name": "python3"
  },
  "language_info": {
   "codemirror_mode": {
    "name": "ipython",
    "version": 3
   },
   "file_extension": ".py",
   "mimetype": "text/x-python",
   "name": "python",
   "nbconvert_exporter": "python",
   "pygments_lexer": "ipython3",
   "version": "3.10.10"
  },
  "orig_nbformat": 4
 },
 "nbformat": 4,
 "nbformat_minor": 2
}
