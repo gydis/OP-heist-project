{
 "cells": [
  {
   "cell_type": "code",
   "execution_count": 24,
   "metadata": {},
   "outputs": [],
   "source": [
    "import openpyxl\n",
    "import pandas as pd"
   ]
  },
  {
   "cell_type": "code",
   "execution_count": 25,
   "metadata": {},
   "outputs": [],
   "source": [
    "company_register = pd.read_csv(r\"C:\\Users\\pvs31\\Desktop\\Data Science Project\\OP-heist-project\\data\\company_register\\2022_04_13.csv\",sep=\",\",encoding=\"latin-1\")\n",
    "nace_class = pd.read_excel(r\"C:\\Users\\pvs31\\Desktop\\Data Science Project\\OP-heist-project\\data\\nace_codes\\nace_classification.xlsx\")\n",
    "#mkregion_breakdown = pd.read_csv(r\"C:\\Users\\pvs31\\Desktop\\Data Science Project\\OP-heist-project\\data\\Regional_economic_and_environmental_data\\Employment_MKregion_breakdown.csv\",sep=\";\",encoding=\"latin-1\")\n",
    "nace_class.columns = nace_class.iloc[0]\n",
    "nace_class = nace_class.iloc[1:]\n",
    "nace_class.reset_index(drop=True,inplace=True)\n",
    "company_register = company_register[[\"company_name\",\"business_id\",\"business_line_code\",\"postal_post_code\",\"postal_city\"]]\n",
    "#mkregion_breakdown = mkregion_breakdown[[\"Transaction\",\"Industry\",\"Sector\"]]"
   ]
  },
  {
   "cell_type": "code",
   "execution_count": 26,
   "metadata": {},
   "outputs": [
    {
     "data": {
      "text/plain": [
       "\"\\n#merging the merged df with mk region breakdown which has a higher level classification\\nmkregion_breakdown['ind_crop'] = mkregion_breakdown['Industry'].str[:1]\\nmerged_df = merged_df.merge(mkregion_breakdown, left_on='Section', right_on='ind_crop', how='left')\\n\\nmerged_df.drop(columns=['ind_crop'], inplace=True)\""
      ]
     },
     "execution_count": 26,
     "metadata": {},
     "output_type": "execute_result"
    }
   ],
   "source": [
    "#merging company register with nace classification\n",
    "company_register['business_line_code'] = company_register['business_line_code'].astype(str)\n",
    "company_register['blc_crop'] = company_register['business_line_code'].str[:2]\n",
    "merged_df = company_register.merge(nace_class, left_on='blc_crop', right_on='NACE Rev. 2', how='left')\n",
    "\n",
    "merged_df.drop(columns=['blc_crop'], inplace=True)\n",
    "\n",
    "'''\n",
    "#merging the merged df with mk region breakdown which has a higher level classification\n",
    "mkregion_breakdown['ind_crop'] = mkregion_breakdown['Industry'].str[:1]\n",
    "merged_df = merged_df.merge(mkregion_breakdown, left_on='Section', right_on='ind_crop', how='left')\n",
    "\n",
    "merged_df.drop(columns=['ind_crop'], inplace=True)'''"
   ]
  },
  {
   "cell_type": "code",
   "execution_count": 27,
   "metadata": {},
   "outputs": [],
   "source": [
    "merged_df = merged_df.drop_duplicates(subset=[\"company_name\"])"
   ]
  },
  {
   "cell_type": "code",
   "execution_count": 31,
   "metadata": {},
   "outputs": [],
   "source": [
    "merged_df.to_csv(\"company_with_nace_codes.csv\")"
   ]
  }
 ],
 "metadata": {
  "kernelspec": {
   "display_name": "Python 3",
   "language": "python",
   "name": "python3"
  },
  "language_info": {
   "codemirror_mode": {
    "name": "ipython",
    "version": 3
   },
   "file_extension": ".py",
   "mimetype": "text/x-python",
   "name": "python",
   "nbconvert_exporter": "python",
   "pygments_lexer": "ipython3",
   "version": "3.11.5"
  },
  "orig_nbformat": 4
 },
 "nbformat": 4,
 "nbformat_minor": 2
}
