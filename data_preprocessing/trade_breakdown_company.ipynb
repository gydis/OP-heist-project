{
 "cells": [
  {
   "cell_type": "code",
   "execution_count": 79,
   "metadata": {},
   "outputs": [],
   "source": [
    "import openpyxl\n",
    "import pandas as pd"
   ]
  },
  {
   "cell_type": "code",
   "execution_count": 80,
   "metadata": {},
   "outputs": [],
   "source": [
    "company_register = pd.read_csv(r\"C:\\Users\\pvs31\\Desktop\\Data Science Project\\OP-heist-project\\data\\company_register\\full_prh_data.csv\",sep=\";\",encoding=\"latin-1\",dtype={'business_line_code':str})\n",
    "nace_class = pd.read_excel(r\"C:\\Users\\pvs31\\Desktop\\Data Science Project\\OP-heist-project\\data\\nace_codes\\nace_classification.xlsx\")\n",
    "#mkregion_breakdown = pd.read_csv(r\"C:\\Users\\pvs31\\Desktop\\Data Science Project\\OP-heist-project\\data\\Regional_economic_and_environmental_data\\Employment_MKregion_breakdown.csv\",sep=\";\",encoding=\"latin-1\")\n",
    "nace_class.columns = nace_class.iloc[0]\n",
    "nace_class = nace_class.iloc[1:]\n",
    "nace_class.reset_index(drop=True,inplace=True)\n",
    "company_register = company_register[[\"company_name\",\"business_id\",\"business_line_code\"]]\n",
    "#mkregion_breakdown = mkregion_breakdown[[\"Transaction\",\"Industry\",\"Sector\"]]"
   ]
  },
  {
   "cell_type": "code",
   "execution_count": 81,
   "metadata": {},
   "outputs": [
    {
     "data": {
      "text/plain": [
       "\"\\n#merging the merged df with mk region breakdown which has a higher level classification\\nmkregion_breakdown['ind_crop'] = mkregion_breakdown['Industry'].str[:1]\\nmerged_df = merged_df.merge(mkregion_breakdown, left_on='Section', right_on='ind_crop', how='left')\\n\\nmerged_df.drop(columns=['ind_crop'], inplace=True)\""
      ]
     },
     "execution_count": 81,
     "metadata": {},
     "output_type": "execute_result"
    }
   ],
   "source": [
    "#merging company register with nace classification\n",
    "company_register['blc_crop'] = company_register['business_line_code'].str[:2]\n",
    "merged_df = company_register.merge(nace_class, left_on='blc_crop', right_on='NACE Rev. 2', how='left')\n",
    "\n",
    "merged_df.drop(columns=['blc_crop'], inplace=True)\n",
    "\n",
    "'''\n",
    "#merging the merged df with mk region breakdown which has a higher level classification\n",
    "mkregion_breakdown['ind_crop'] = mkregion_breakdown['Industry'].str[:1]\n",
    "merged_df = merged_df.merge(mkregion_breakdown, left_on='Section', right_on='ind_crop', how='left')\n",
    "\n",
    "merged_df.drop(columns=['ind_crop'], inplace=True)'''"
   ]
  },
  {
   "cell_type": "code",
   "execution_count": 82,
   "metadata": {},
   "outputs": [],
   "source": [
    "merged_df = merged_df.drop_duplicates(subset=[\"company_name\"])\n",
    "merged_df.to_csv(r\"C:\\Users\\pvs31\\Desktop\\Data Science Project\\OP-heist-project\\data\\combined\\company_with_nace_codes.csv\")"
   ]
  },
  {
   "cell_type": "code",
   "execution_count": 83,
   "metadata": {},
   "outputs": [],
   "source": [
    "comp_reg = pd.read_csv(r\"C:\\Users\\pvs31\\Desktop\\Data Science Project\\OP-heist-project\\data\\company_register\\full_prh_data_with_region.csv\",sep=\",\",encoding=\"latin-1\")\n",
    "comp_reg = comp_reg.drop(columns=[\"business_line_code\"])\n",
    "merged_df = comp_reg.merge(merged_df, left_on='company_name', right_on='company_name', how='left')\n",
    "merged_df.head()\n",
    "merged_df.to_csv(r\"C:\\Users\\pvs31\\Desktop\\Data Science Project\\OP-heist-project\\data\\combined\\company_nace_region.csv\")"
   ]
  }
 ],
 "metadata": {
  "kernelspec": {
   "display_name": "Python 3",
   "language": "python",
   "name": "python3"
  },
  "language_info": {
   "codemirror_mode": {
    "name": "ipython",
    "version": 3
   },
   "file_extension": ".py",
   "mimetype": "text/x-python",
   "name": "python",
   "nbconvert_exporter": "python",
   "pygments_lexer": "ipython3",
   "version": "3.11.5"
  },
  "orig_nbformat": 4
 },
 "nbformat": 4,
 "nbformat_minor": 2
}
